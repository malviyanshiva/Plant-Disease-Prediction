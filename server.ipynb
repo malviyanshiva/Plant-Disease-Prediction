{
 "cells": [
  {
   "cell_type": "code",
   "execution_count": 1,
   "id": "92045f3c",
   "metadata": {},
   "outputs": [],
   "source": [
    "from flask import Flask, render_template, request\n",
    "\n",
    "import numpy as np\n",
    "import os\n",
    "\n",
    "from tensorflow.keras.preprocessing.image import load_img\n",
    "from tensorflow.keras.preprocessing.image import img_to_array\n",
    "from tensorflow.keras.models import load_model"
   ]
  },
  {
   "cell_type": "code",
   "execution_count": 2,
   "id": "068981d8",
   "metadata": {},
   "outputs": [],
   "source": [
    "filepath ='model.h5'"
   ]
  },
  {
   "cell_type": "code",
   "execution_count": 3,
   "id": "eb6207de",
   "metadata": {},
   "outputs": [
    {
     "name": "stdout",
     "output_type": "stream",
     "text": [
      "<keras.engine.sequential.Sequential object at 0x0000016D4DCC19A0>\n",
      "Model Loaded Successfully\n"
     ]
    }
   ],
   "source": [
    "model = load_model(filepath)\n",
    "print(model)\n",
    "\n",
    "print(\"Model Loaded Successfully\")"
   ]
  },
  {
   "cell_type": "code",
   "execution_count": 4,
   "id": "af4d1656",
   "metadata": {},
   "outputs": [],
   "source": [
    "def pred_disease(plant_image):\n",
    "  test_image = load_img(plant_image, target_size = (128, 128)) # load image \n",
    "  print(\"@@ Got Image for prediction\")\n",
    "  \n",
    "  test_image = img_to_array(test_image)/255 # convert image to np array and normalize\n",
    "  test_image = np.expand_dims(test_image, axis = 0) # change dimention 3D to 4D\n",
    "  \n",
    "  result = model.predict(test_image) # predict diseased palnt or not\n",
    "  print('@@ Raw result = ', result)\n",
    "  \n",
    "  pred = np.argmax(result, axis=1)\n",
    "  print(pred)\n",
    "  if pred==0:\n",
    "      return \"Apple-Apple-scab\", 'Apple__Apple_scab.html'\n",
    "       \n",
    "  elif pred==1:\n",
    "      return \"Apple-Black-rot\", 'Apple_Black_rot.html'\n",
    "        \n",
    "  elif pred==2:\n",
    "      return \"Apple-Cedar apple rust\", 'Apple_Cedar_apple_rust.html'\n",
    "        \n",
    "  elif pred==3:\n",
    "      return \"Apple-healthy\", 'Apple_healthy.html'\n",
    "       \n",
    "  elif pred==4:\n",
    "      return \"Cherry-(including-sour)-Powdery-mildew\", 'Cherry(including_sour)__Powdery_mildew.html'\n",
    "        \n",
    "  elif pred==5:\n",
    "      return \"Cherry-(including-sour)-healthy\", 'Cherry(including_sour)__healthy.html'\n",
    "        \n",
    "  elif pred==6:\n",
    "      return \"Corn-(maize)-Cercospora-leaf-spot Gray-leaf-spot\", 'Corn(maize)__Cercospora_leaf_spot Gray_leaf_spot.html'\n",
    "        \n",
    "  elif pred==7:\n",
    "      return \"Corn-(maize)-Common-rust-\", 'Corn(maize)__Common_rust.html'\n",
    "  elif pred==8:\n",
    "      return \"Corn-(maize)-Northern-Leaf-Blight\", 'Corn_(maize)__Northern_Leaf_Blight.html'\n",
    "        \n",
    "  elif pred==9:\n",
    "      return \"Corn-(maize)-healthy\", 'Corn(maize)__healthy.html'\n",
    "  elif pred==10:\n",
    "      return \"Grape-Black-rot\", 'Grape_Black_rot.html'\n",
    "  elif pred==11:\n",
    "      return \"Grape-Esca-(Black-Measles)\", 'Grape_Esca(Black_Measles).html'\n",
    "  elif pred==12:\n",
    "      return \"Grape-Leaf-blight-(Isariopsis-Leaf-Spot)\", 'Grape__Leaf_blight(Isariopsis_Leaf_Spot).html'\n",
    "  elif pred==13:\n",
    "      return \"Grape-healthy\", 'Grape__healthy.html'\n",
    "  elif pred==14:\n",
    "      return \"Peach-Bacterial-spot\", 'Peach__Bacterial_spothtml'\n",
    "  elif pred==15:\n",
    "      return \"Peach-healthy\", 'Peach_healthy.html'\n",
    "  elif pred==16:\n",
    "      return \"Pepper-bell-Bacterial-spot\", 'Pepper,_bell_Bacterial_spot.html'\n",
    "  elif pred==17:\n",
    "      return \"Pepper-bell-healthy\", 'Pepper,_bell_healthy.html'\n",
    "  elif pred==18:\n",
    "      return \"Potato-Early-blight\", 'Potato_Early_blight.html'\n",
    "  elif pred==19:\n",
    "      return \"Potato-Late-blight\", 'Potato_Late_blight.html'\n",
    "  elif pred==20:\n",
    "      return \"Potato-healthy\", 'Potato_healthy.html'\n",
    "  elif pred==21:\n",
    "      return \"Strawberry-Leaf-scorch\", 'Strawberry_Leaf_scorch.html'\n",
    "  elif pred==22:\n",
    "      return \"Strawberry-healthy\", 'Strawberry_healthy.html'\n",
    "  elif pred==23:\n",
    "      return \"Tomato-Bacterial-spot\", 'Tomato - Two-spotted_spider_mite.html'\n",
    "  elif pred==24:\n",
    "      return \"Tomato-Early-blight\", 'Tomato - Two-spotted_spider_mite.html'\n",
    "  elif pred==25:\n",
    "      return \"Tomato-Late-blight\", 'Tomato - Late_blight.html'\n",
    "  elif pred==26:\n",
    "      return \"Tomato-Leaf-Mold\", 'Tomato - Leaf_Mold.html'\n",
    "  elif pred==27:\n",
    "      return \"Tomato-Septoria-leaf-spot\", 'Tomato - Septoria_leaf_spot.html'\n",
    "  elif pred==28:\n",
    "      return \"Tomato-Spider-mites Two-spotted-spider-mite\", 'Tomato - Two-spotted_spider_mite.html'\n",
    "  elif pred==29:\n",
    "      return \"Tomato-Target-Spot\", 'Tomato - Target_Spot.html'\n",
    "  elif pred==30:\n",
    "      return \"Tomato-Tomato-Yellow-Leaf-Curl-Virus\", 'Tomato - Tomato_Yellow_Leaf_Curl_Virus.html'\n",
    "  elif pred==31:\n",
    "      return \"Tomato-Tomato-mosaic-virus\", 'Tomato - Tomato_mosaic_virus.html'\n",
    "  elif pred==32:\n",
    "      return \"Tomato-healthy\", 'Tomato-Healthy.html'\n",
    "\n"
   ]
  },
  {
   "cell_type": "code",
   "execution_count": 5,
   "id": "859c33fb",
   "metadata": {},
   "outputs": [],
   "source": [
    "# Create flask instance\n",
    "app = Flask(__name__)"
   ]
  },
  {
   "cell_type": "code",
   "execution_count": 6,
   "id": "a8e3bdd3",
   "metadata": {},
   "outputs": [],
   "source": [
    "# render index.html page\n",
    "@app.route(\"/\", methods=['GET', 'POST'])\n",
    "def home():\n",
    "        return render_template('index.html')"
   ]
  },
  {
   "cell_type": "code",
   "execution_count": 7,
   "id": "d7954518",
   "metadata": {},
   "outputs": [],
   "source": [
    "# get input image from client then predict class and render respective .html page for solution\n",
    "@app.route(\"/predict\", methods = ['GET','POST'])\n",
    "def predict():\n",
    "     if request.method == 'POST':\n",
    "        file = request.files['image'] # fet input\n",
    "        filename = file.filename        \n",
    "        print(\"@@ Input posted = \", filename)\n",
    "        \n",
    "        file_path = os.path.join('./static/upload/', \"upload.jpg\")\n",
    "        file.save(file_path)\n",
    "\n",
    "        print(\"@@ Predicting class......\")\n",
    "        pred, output_page = pred_disease(plant_image=file_path)\n",
    "        print(file_path)\n",
    "        return render_template(output_page, pred_output = pred, user_image = file_path)"
   ]
  },
  {
   "cell_type": "code",
   "execution_count": null,
   "id": "0e855287",
   "metadata": {},
   "outputs": [
    {
     "name": "stdout",
     "output_type": "stream",
     "text": [
      " * Serving Flask app '__main__' (lazy loading)\n",
      " * Environment: production\n",
      "\u001b[31m   WARNING: This is a development server. Do not use it in a production deployment.\u001b[0m\n",
      "\u001b[2m   Use a production WSGI server instead.\u001b[0m\n",
      " * Debug mode: off\n"
     ]
    },
    {
     "name": "stderr",
     "output_type": "stream",
     "text": [
      " * Running on http://127.0.0.1:8080/ (Press CTRL+C to quit)\n",
      "127.0.0.1 - - [11/Jul/2022 16:45:17] \"GET / HTTP/1.1\" 200 -\n",
      "127.0.0.1 - - [11/Jul/2022 16:45:18] \"GET /favicon.ico HTTP/1.1\" 404 -\n",
      "127.0.0.1 - - [11/Jul/2022 16:45:18] \"GET /static/images/Background.jpg HTTP/1.1\" 304 -\n"
     ]
    },
    {
     "name": "stdout",
     "output_type": "stream",
     "text": [
      "@@ Input posted =  0b3e5032-8ae8-49ac-8157-a1cac3df01dd___RS_HL 1817.JPG\n",
      "@@ Predicting class......\n",
      "@@ Got Image for prediction\n"
     ]
    },
    {
     "name": "stderr",
     "output_type": "stream",
     "text": [
      "127.0.0.1 - - [11/Jul/2022 16:45:54] \"POST /predict HTTP/1.1\" 200 -\n"
     ]
    },
    {
     "name": "stdout",
     "output_type": "stream",
     "text": [
      "@@ Raw result =  [[1.8644559e-07 4.4972044e-03 3.5655812e-10 5.0700773e-06 1.2918399e-08\n",
      "  1.2740091e-02 9.9707749e-11 3.1287290e-12 1.7435310e-15 1.1979418e-12\n",
      "  9.5392338e-08 3.3783900e-09 5.1117083e-10 5.0018280e-06 6.1042532e-10\n",
      "  1.1252694e-09 4.1253946e-04 6.7152220e-01 1.7563911e-08 1.9159177e-05\n",
      "  3.1076452e-01 2.7451095e-12 4.3750752e-06 3.0390097e-13 1.4345839e-07\n",
      "  1.3663590e-07 3.9588222e-11 2.9203255e-05 4.0424195e-11 7.2921573e-08\n",
      "  2.9923550e-14 1.3323364e-08 4.2847832e-13]]\n",
      "[17]\n",
      "./static/upload/upload.jpg\n"
     ]
    },
    {
     "name": "stderr",
     "output_type": "stream",
     "text": [
      "127.0.0.1 - - [11/Jul/2022 16:45:54] \"GET /static/upload/upload.jpg HTTP/1.1\" 200 -\n",
      "127.0.0.1 - - [11/Jul/2022 16:45:54] \"GET /static/images/Back.jpg HTTP/1.1\" 200 -\n",
      "127.0.0.1 - - [11/Jul/2022 16:45:54] \"GET /favicon.ico HTTP/1.1\" 404 -\n",
      "127.0.0.1 - - [11/Jul/2022 16:46:13] \"POST /predict HTTP/1.1\" 200 -\n"
     ]
    },
    {
     "name": "stdout",
     "output_type": "stream",
     "text": [
      "@@ Input posted =  00fc2ee5-729f-4757-8aeb-65c3355874f2___RS_HL 1864_180deg.JPG\n",
      "@@ Predicting class......\n",
      "@@ Got Image for prediction\n",
      "@@ Raw result =  [[2.4489816e-10 7.9182180e-05 1.5460772e-10 5.1534603e-09 1.2054863e-09\n",
      "  2.5970538e-08 6.1264958e-13 7.2303719e-11 3.2917326e-18 5.5202827e-15\n",
      "  3.4558711e-10 9.4858086e-09 3.9992253e-11 5.3506928e-09 2.1116052e-10\n",
      "  4.3003717e-12 3.9921210e-06 8.1275642e-02 2.2760770e-13 2.0824336e-08\n",
      "  9.1756213e-01 3.3800484e-14 1.5684234e-08 1.1099359e-13 7.3777104e-04\n",
      "  1.9030582e-09 9.6614531e-12 1.8570921e-05 6.7954482e-09 1.9257941e-05\n",
      "  6.6675116e-12 3.0339599e-04 3.1708972e-11]]\n",
      "[20]\n",
      "./static/upload/upload.jpg\n"
     ]
    },
    {
     "name": "stderr",
     "output_type": "stream",
     "text": [
      "127.0.0.1 - - [11/Jul/2022 16:46:13] \"GET /static/upload/upload.jpg HTTP/1.1\" 200 -\n",
      "127.0.0.1 - - [11/Jul/2022 16:46:13] \"GET /static/images/Back.jpg HTTP/1.1\" 200 -\n"
     ]
    }
   ],
   "source": [
    "if __name__ == \"__main__\":\n",
    "    app.run(threaded=False,port=8080)"
   ]
  },
  {
   "cell_type": "code",
   "execution_count": null,
   "id": "d732ac92",
   "metadata": {},
   "outputs": [],
   "source": []
  }
 ],
 "metadata": {
  "kernelspec": {
   "display_name": "Python 3 (ipykernel)",
   "language": "python",
   "name": "python3"
  },
  "language_info": {
   "codemirror_mode": {
    "name": "ipython",
    "version": 3
   },
   "file_extension": ".py",
   "mimetype": "text/x-python",
   "name": "python",
   "nbconvert_exporter": "python",
   "pygments_lexer": "ipython3",
   "version": "3.9.4"
  },
  "vscode": {
   "interpreter": {
    "hash": "43dc703e3ec3b5179816fb22bbde19ba5b5d5fdda1e3b8f026b248cf7b3442d3"
   }
  }
 },
 "nbformat": 4,
 "nbformat_minor": 5
}
